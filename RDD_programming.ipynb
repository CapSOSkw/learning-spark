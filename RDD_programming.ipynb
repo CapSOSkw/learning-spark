{
 "cells": [
  {
   "cell_type": "code",
   "execution_count": 2,
   "metadata": {},
   "outputs": [],
   "source": [
    "from pyspark import SparkContext"
   ]
  },
  {
   "cell_type": "code",
   "execution_count": 4,
   "metadata": {},
   "outputs": [],
   "source": [
    "# Initializing\n",
    "#sc = SparkContext(master='local', appName='RDD')"
   ]
  },
  {
   "cell_type": "code",
   "execution_count": 5,
   "metadata": {},
   "outputs": [
    {
     "name": "stdout",
     "output_type": "stream",
     "text": [
      "ParallelCollectionRDD[0] at parallelize at PythonRDD.scala:194 \n <class 'pyspark.rdd.RDD'>\n"
     ]
    },
    {
     "name": "stdout",
     "output_type": "stream",
     "text": [
      "[1, 2, 3, 4, 5]\nThe number of partitions of RDD is 5\n"
     ]
    }
   ],
   "source": [
    "# Parallelized Collections\n",
    "\n",
    "data = [1,2,3,4,5]\n",
    "distributed_dataset = sc.parallelize(data, numSlices=5)\n",
    "\n",
    "'''\n",
    "The parameter \"numSlices\" is the partition that users pre-define.\n",
    "Typically, 2-4 partitions for each CPU in the cluster.\n",
    "Spark tries to set the value of partitions automatically.\n",
    "'''\n",
    "\n",
    "print(distributed_dataset, '\\n', type(distributed_dataset))\n",
    "print(distributed_dataset.collect())   # Return a list that contains ALL of the elements in this RDD.\n",
    "print(f'The number of partitions of RDD is {distributed_dataset.getNumPartitions()}')\n"
   ]
  },
  {
   "cell_type": "code",
   "execution_count": 4,
   "metadata": {},
   "outputs": [
    {
     "name": "stdout",
     "output_type": "stream",
     "text": [
      "First element:  # Apache Spark\n",
      "Number of elements:  103\n",
      "# Apache Spark\n"
     ]
    }
   ],
   "source": [
    "# External Datasets\n",
    "\n",
    "distributed_file = sc.textFile('./files/README.md')\n",
    "print('First element: ', distributed_file.first())  # Return the first element in the RDD\n",
    "print('Number of elements: ', distributed_file.count())  # Return the number of elements in the RDD\n",
    "print(distributed_file.first())"
   ]
  },
  {
   "cell_type": "code",
   "execution_count": 1,
   "metadata": {},
   "outputs": [
    {
     "data": {
      "text/plain": [
       "'\\nTransformation:\\n1. map()\\n2. flatMap()\\n3. filter()\\n4. distinct()\\n5. sample(withReplacement, fraction, [seed])\\n6. union()\\n7. intersection()\\n8. subtract()\\n9. cartesian()\\n10. repartition()\\n11. coalesce()\\n'"
      ]
     },
     "execution_count": 1,
     "metadata": {},
     "output_type": "execute_result"
    }
   ],
   "source": [
    "# RDD Transformations and Actions\n",
    "'''\n",
    "Transformation: Create a new dataset from an existing one. Return a new RDD.\n",
    "Action: Return other types of datasets\n",
    "'''\n",
    "\n",
    "'''\n",
    "Transformation:\n",
    "1. map()\n",
    "2. flatMap()\n",
    "3. filter()\n",
    "4. distinct()\n",
    "5. sample(withReplacement, fraction, [seed])\n",
    "6. union()\n",
    "7. intersection()\n",
    "8. subtract()\n",
    "9. cartesian()\n",
    "10. repartition()\n",
    "11. coalesce()\n",
    "'''"
   ]
  },
  {
   "cell_type": "code",
   "execution_count": 1,
   "metadata": {},
   "outputs": [
    {
     "data": {
      "text/plain": [
       "ParallelCollectionRDD[1] at parallelize at PythonRDD.scala:194"
      ]
     },
     "execution_count": 1,
     "metadata": {},
     "output_type": "execute_result"
    }
   ],
   "source": [
    "data1 = sc.parallelize([1,2,3,4,5,5], 2)\n",
    "data2 = sc.parallelize([7,6,5,4,3])\n",
    "\n",
    "data1.persist()  # save RDD into RAM for multiple uses\n",
    "data2.persist()\n",
    "\n",
    "# In Python, persist() is the same to the cache(), which is \"MEMORY_ONLY\" level.\n",
    "# Use persist() only if other storage level is required."
   ]
  },
  {
   "cell_type": "code",
   "execution_count": 3,
   "metadata": {},
   "outputs": [
    {
     "name": "stdout",
     "output_type": "stream",
     "text": [
      "map function example:  [2, 3, 4, 5, 6, 6]\n"
     ]
    }
   ],
   "source": [
    "mapExample = data1.map(lambda x: x+1)\n",
    "print('map function example: ', mapExample.collect())"
   ]
  },
  {
   "cell_type": "code",
   "execution_count": 4,
   "metadata": {},
   "outputs": [
    {
     "name": "stdout",
     "output_type": "stream",
     "text": [
      "flatMap function example:  [1, 2, 3, 4, 2, 3, 4, 3, 4, 4]\n"
     ]
    }
   ],
   "source": [
    "flatMapExample = data1.flatMap(lambda x: range(x, 5))   # iterate each element to 4\n",
    "print('flatMap function example: ', flatMapExample.collect())"
   ]
  },
  {
   "cell_type": "code",
   "execution_count": 5,
   "metadata": {},
   "outputs": [
    {
     "name": "stdout",
     "output_type": "stream",
     "text": [
      "filter function example:  [1, 2, 3]\n"
     ]
    }
   ],
   "source": [
    "filterExample = data1.filter(lambda x: x <= 3)\n",
    "print('filter function example: ', filterExample.collect())"
   ]
  },
  {
   "cell_type": "code",
   "execution_count": 8,
   "metadata": {},
   "outputs": [
    {
     "name": "stdout",
     "output_type": "stream",
     "text": [
      "distinct function example:  [2, 4, 1, 3, 5]\n"
     ]
    }
   ],
   "source": [
    "distinctExample = data1.distinct()\n",
    "print('distinct function example: ', distinctExample.collect())"
   ]
  },
  {
   "cell_type": "code",
   "execution_count": 7,
   "metadata": {},
   "outputs": [
    {
     "name": "stdout",
     "output_type": "stream",
     "text": [
      "sample function example:  [2, 3, 5]\n"
     ]
    }
   ],
   "source": [
    "sampleExample = data1.sample(withReplacement=False, fraction=0.2)\n",
    "print('sample function example: ', sampleExample.collect())"
   ]
  },
  {
   "cell_type": "code",
   "execution_count": 9,
   "metadata": {},
   "outputs": [
    {
     "name": "stdout",
     "output_type": "stream",
     "text": [
      "union function example:  [1, 2, 3, 4, 5, 5, 7, 6, 5, 4, 3]\n"
     ]
    }
   ],
   "source": [
    "unionExample = data1.union(data2)\n",
    "print('union function example: ', unionExample.collect())"
   ]
  },
  {
   "cell_type": "code",
   "execution_count": 10,
   "metadata": {},
   "outputs": [
    {
     "name": "stdout",
     "output_type": "stream",
     "text": [
      "intersection function example:  [3, 4, 5]\n"
     ]
    }
   ],
   "source": [
    "intersectionExample = data1.intersection(data2)\n",
    "print('intersection function example: ', intersectionExample.collect())\n"
   ]
  },
  {
   "cell_type": "code",
   "execution_count": 11,
   "metadata": {},
   "outputs": [
    {
     "name": "stdout",
     "output_type": "stream",
     "text": [
      "subtract function example:  [1, 2]\n"
     ]
    }
   ],
   "source": [
    "subtractExample = data1.subtract(data2)\n",
    "print('subtract function example: ', subtractExample.collect())"
   ]
  },
  {
   "cell_type": "code",
   "execution_count": 12,
   "metadata": {},
   "outputs": [
    {
     "name": "stdout",
     "output_type": "stream",
     "text": [
      "cartesian function example:  [(1, 7), (2, 7), (3, 7), (1, 6), (2, 6), (3, 6), (1, 5), (2, 5), (3, 5), (1, 4), (2, 4), (3, 4), (1, 3), (2, 3), (3, 3), (4, 7), (5, 7), (5, 7), (4, 6), (5, 6), (5, 6), (4, 5), (5, 5), (5, 5), (4, 4), (5, 4), (5, 4), (4, 3), (5, 3), (5, 3)]\n"
     ]
    }
   ],
   "source": [
    "cartesianExample = data1.cartesian(data2)\n",
    "print('cartesian function example: ', cartesianExample.collect())"
   ]
  },
  {
   "cell_type": "code",
   "execution_count": 13,
   "metadata": {},
   "outputs": [
    {
     "name": "stdout",
     "output_type": "stream",
     "text": [
      "repartition function example: Original partitions: 2, New partitions: 5\n"
     ]
    }
   ],
   "source": [
    "repartitionExample = data1.repartition(5)\n",
    "print(f'repartition function example: Original partitions: {data1.getNumPartitions()}, New partitions: {repartitionExample.getNumPartitions()}')\n"
   ]
  },
  {
   "cell_type": "code",
   "execution_count": 15,
   "metadata": {},
   "outputs": [
    {
     "name": "stdout",
     "output_type": "stream",
     "text": [
      "coalesce function example: Original partitions: 2, New partitions: 1\n"
     ]
    }
   ],
   "source": [
    "coalesceExample = data1.coalesce(1)\n",
    "print(f'coalesce function example: Original partitions: {data1.getNumPartitions()}, New partitions: {coalesceExample.getNumPartitions()}')\n",
    "\n",
    "# https://stackoverflow.com/a/31612810\n",
    "# This answer well explained the differences between repartition() and coalesce().\n",
    "# coalesce() avoids a full shuffle.\n",
    "# coalesce() only moves the data off the extra partitions, onto the partitions that we kept.\n",
    "# repartition() always shuffles all data over the network.\n"
   ]
  },
  {
   "cell_type": "code",
   "execution_count": 16,
   "metadata": {},
   "outputs": [
    {
     "data": {
      "text/plain": [
       "'\\nActions:\\n1. collect()\\n2. count()\\n3. countByValue()\\n4. take()\\n5. top()\\n6. takeOrdered()\\n7. takeSample(withReplacement, num, [seed])\\n8. reduce()\\n9. fold(zeroValue, op)\\n10. foreach()\\n11. aggregate()\\n'"
      ]
     },
     "execution_count": 16,
     "metadata": {},
     "output_type": "execute_result"
    }
   ],
   "source": [
    "'''\n",
    "Actions:\n",
    "1. collect()\n",
    "2. count()\n",
    "3. countByValue()\n",
    "4. take()\n",
    "5. top()\n",
    "6. takeOrdered()\n",
    "7. takeSample(withReplacement, num, [seed])\n",
    "8. reduce()\n",
    "9. fold(zeroValue, op)\n",
    "10. foreach()\n",
    "11. aggregate()\n",
    "'''"
   ]
  },
  {
   "cell_type": "code",
   "execution_count": 17,
   "metadata": {},
   "outputs": [
    {
     "name": "stdout",
     "output_type": "stream",
     "text": [
      "collect function example:  [1, 2, 3, 4, 5, 5]\n"
     ]
    }
   ],
   "source": [
    "collectExample = data1.collect()\n",
    "print('collect function example: ', collectExample)"
   ]
  },
  {
   "cell_type": "code",
   "execution_count": 18,
   "metadata": {},
   "outputs": [
    {
     "name": "stdout",
     "output_type": "stream",
     "text": [
      "count function example:  6\n"
     ]
    }
   ],
   "source": [
    "countExample = data1.count()   # return the number of elements\n",
    "print('count function example: ', countExample)"
   ]
  },
  {
   "cell_type": "code",
   "execution_count": 19,
   "metadata": {},
   "outputs": [
    {
     "name": "stdout",
     "output_type": "stream",
     "text": [
      "countByValue function example:  defaultdict(<class 'int'>, {1: 1, 2: 1, 3: 1, 4: 1, 5: 2})\n"
     ]
    }
   ],
   "source": [
    "countByValueExample = data1.countByValue()  # return a dictionary\n",
    "print('countByValue function example: ', countByValueExample)"
   ]
  },
  {
   "cell_type": "code",
   "execution_count": 20,
   "metadata": {},
   "outputs": [
    {
     "name": "stdout",
     "output_type": "stream",
     "text": [
      "take function example:  [1, 2, 3]\n"
     ]
    }
   ],
   "source": [
    "takeExample = data1.take(3)   # take first 3 elements\n",
    "print('take function example: ', takeExample)"
   ]
  },
  {
   "cell_type": "code",
   "execution_count": 21,
   "metadata": {},
   "outputs": [
    {
     "name": "stdout",
     "output_type": "stream",
     "text": [
      "top function example:  [5, 5]\n"
     ]
    }
   ],
   "source": [
    "topExample = data1.top(2)     # take the largest 2 elements\n",
    "print('top function example: ', topExample)\n"
   ]
  },
  {
   "cell_type": "code",
   "execution_count": 22,
   "metadata": {},
   "outputs": [
    {
     "name": "stdout",
     "output_type": "stream",
     "text": [
      "takeOrdered function example:  [5, 5, 4]\n"
     ]
    }
   ],
   "source": [
    "takeOrderedExample = data1.takeOrdered(num=3, key=lambda x: -x)  # take first 3 elements by descending sorted\n",
    "print('takeOrdered function example: ', takeOrderedExample)"
   ]
  },
  {
   "cell_type": "code",
   "execution_count": 23,
   "metadata": {},
   "outputs": [
    {
     "name": "stdout",
     "output_type": "stream",
     "text": [
      "takeSample function example:  [5, 3]\n"
     ]
    }
   ],
   "source": [
    "takeSampleExample = data1.takeSample(withReplacement=False, num=2)\n",
    "print('takeSample function example: ', takeSampleExample)"
   ]
  },
  {
   "cell_type": "code",
   "execution_count": 24,
   "metadata": {},
   "outputs": [
    {
     "name": "stdout",
     "output_type": "stream",
     "text": [
      "reduce function example:  20\n"
     ]
    }
   ],
   "source": [
    "reduceExample = data1.reduce(lambda x, y: x+y)  # Equals to sum()\n",
    "print('reduce function example: ', reduceExample)"
   ]
  },
  {
   "cell_type": "code",
   "execution_count": 25,
   "metadata": {},
   "outputs": [
    {
     "name": "stdout",
     "output_type": "stream",
     "text": [
      "fold function example:  20\n"
     ]
    }
   ],
   "source": [
    "foldExample = data1.fold(zeroValue=0, op=lambda x,y: x+y)\n",
    "# fold() is the almost same to the reduce(),\n",
    "# while the difference is that fold() needs to pre-define a start value, aka zeroValue.\n",
    "print('fold function example: ', foldExample)"
   ]
  },
  {
   "cell_type": "code",
   "execution_count": 27,
   "metadata": {},
   "outputs": [],
   "source": [
    "foreachExample = data1.foreach(print)\n",
    "# Both foreach() and map() are designed to iterate all elements in RDD.\n",
    "# The differences are:\n",
    "# 1. map() is a transformation, foreach() is a action.\n",
    "# 2. foreach() returns none (void), and map() returns a new RDD."
   ]
  },
  {
   "cell_type": "code",
   "execution_count": 2,
   "metadata": {},
   "outputs": [
    {
     "name": "stdout",
     "output_type": "stream",
     "text": [
      "aggregate function example:  (20, 6)\n"
     ]
    }
   ],
   "source": [
    "aggregateExample = data1.aggregate(zeroValue=(0,0),\n",
    "                                   seqOp=lambda x,y: (x[0] + y, x[1] + 1),\n",
    "                                   combOp=lambda x,y: (x[0] + y[0], x[1] + y[1]))\n",
    "# https://stackoverflow.com/a/38949457\n",
    "# This answer well explained aggregate function and zeroValue.\n",
    "print('aggregate function example: ', aggregateExample)"
   ]
  },
  {
   "cell_type": "code",
   "execution_count": null,
   "metadata": {},
   "outputs": [],
   "source": []
  }
 ],
 "metadata": {
  "kernelspec": {
   "display_name": "Python 3",
   "language": "python",
   "name": "python3"
  },
  "language_info": {
   "codemirror_mode": {
    "name": "ipython",
    "version": 3
   },
   "file_extension": ".py",
   "mimetype": "text/x-python",
   "name": "python",
   "nbconvert_exporter": "python",
   "pygments_lexer": "ipython3",
   "version": "3.6.8"
  }
 },
 "nbformat": 4,
 "nbformat_minor": 1
}
